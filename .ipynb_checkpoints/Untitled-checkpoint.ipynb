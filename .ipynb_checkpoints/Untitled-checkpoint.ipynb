{
 "cells": [
  {
   "cell_type": "code",
   "execution_count": null,
   "id": "af1a301b",
   "metadata": {},
   "outputs": [],
   "source": [
    "# Create a function that cleans everything we need to clean"
   ]
  },
  {
   "cell_type": "code",
   "execution_count": null,
   "id": "8152a5b2",
   "metadata": {},
   "outputs": [],
   "source": [
    "import pandas as pd\n",
    "import numpy as np"
   ]
  },
  {
   "cell_type": "code",
   "execution_count": null,
   "id": "983c9065",
   "metadata": {},
   "outputs": [],
   "source": [
    "# get the data\n",
    "fifa_predict = pd.read_csv('fifa21_validate.csv')"
   ]
  },
  {
   "cell_type": "code",
   "execution_count": null,
   "id": "dc9b56ae",
   "metadata": {},
   "outputs": [],
   "source": [
    "def clean_data(df):\n",
    "\n",
    "# Standardize our columns so they look the same\n",
    "    df.columns =[colname.lower().replace(' ','_') for colname in df.columns]\n",
    "\n",
    "# Drop values we not need\n",
    "\n",
    "    df=df.drop(columns=['id', 'team_&_contract','joined', 'loan_date_end', 'position','contract','ls', 'st', 'rs', 'lw', 'lf', 'cf', 'rf', 'rw', 'lam', 'cam', 'ram',\n",
    "       'lm', 'lcm', 'cm', 'rcm', 'rm', 'lwb', 'ldm', 'cdm', 'rdm', 'rwb', 'lb',\n",
    "       'lcb', 'cb', 'rcb', 'rb', 'gk','release_clause','attacking', 'crossing',\n",
    "       'finishing', 'heading_accuracy', 'short_passing', 'volleys', 'skill',\n",
    "       'dribbling', 'curve', 'fk_accuracy', 'long_passing', 'ball_control',\n",
    "       'movement', 'acceleration', 'sprint_speed', 'agility', 'reactions',\n",
    "       'balance', 'power', 'shot_power', 'jumping', 'stamina', 'strength',\n",
    "       'long_shots', 'mentality', 'aggression', 'interceptions', 'positioning',\n",
    "       'vision', 'penalties', 'composure', 'defending', 'marking',\n",
    "       'standing_tackle', 'sliding_tackle', 'goalkeeping', 'gk_diving',\n",
    "       'gk_handling', 'gk_kicking', 'gk_positioning', 'gk_reflexes', 'value', 'base_stats','height', 'weight','w/f','name', 'nationality', 'club'], axis = 1)\n",
    "\n",
    "# Convert wage into integers\n",
    "    #df['wage'] = [x.replace('€', '').replace('K','000') for x in df['wage']]\n",
    "\n",
    "# Get rid of the star\n",
    "    \n",
    "    #df = [i.replace('★','') for i in df]\n",
    "\n",
    "# Get rid of the NaN values\n",
    "    #df = df.dropna()\n",
    "    \n",
    "    return df\n",
    "\n",
    "#def conversion(df)\n",
    "\n",
    "# Convert the height from inches to cm\n",
    "\n",
    "    #heights = []\n",
    "    #for height in df['height'].fillna(''):\n",
    "        #if height != '':\n",
    "            #height1 =int(height[0])*30.48\n",
    "            #height2 =int(height[2])*2.54\n",
    "            #height3= height1 + height2\n",
    "            #heights.append(height3)\n",
    "       # else:\n",
    "            #heights.append(np.nan)\n",
    "    #return heights\n",
    "\n",
    "# Convert weights from lbs into kg\n",
    "\n",
    "    #weights =[]\n",
    "    #for x in df['weight']:\n",
    "    #weight1= x.replace('lbs','')\n",
    "    #weights2 = int(weight1)\n",
    "    #weights3 = round((weights2/2.205),2)\n",
    "    #weights.append(weights3)\n",
    "    #return weights\n",
    "\n",
    "# Convert 'values' into integer values\n",
    "\n",
    "# Convert 'wages' into int\n"
   ]
  },
  {
   "cell_type": "code",
   "execution_count": null,
   "id": "5d0a2983",
   "metadata": {},
   "outputs": [],
   "source": [
    "fifa_predict.head()"
   ]
  },
  {
   "cell_type": "code",
   "execution_count": null,
   "id": "79bfacd7",
   "metadata": {},
   "outputs": [],
   "source": [
    "fifa_predict = clean_data(fifa_predict)"
   ]
  },
  {
   "cell_type": "code",
   "execution_count": null,
   "id": "72d8a23f",
   "metadata": {},
   "outputs": [],
   "source": [
    "def clean_data(df):\n",
    "\n",
    "# Standardize our columns so they look the same\n",
    "    df.columns =[colname.lower().replace(' ','_') for colname in df.columns]\n",
    "\n",
    "# Drop values we not need\n",
    "\n",
    "    df=df.drop(columns=['id', 'team_&_contract','joined', 'loan_date_end', 'position','contract','ls', 'st', 'rs', 'lw', 'lf', 'cf', 'rf', 'rw', 'lam', 'cam', 'ram',\n",
    "       'lm', 'lcm', 'cm', 'rcm', 'rm', 'lwb', 'ldm', 'cdm', 'rdm', 'rwb', 'lb',\n",
    "       'lcb', 'cb', 'rcb', 'rb', 'gk','release_clause','attacking', 'crossing',\n",
    "       'finishing', 'heading_accuracy', 'short_passing', 'volleys', 'skill',\n",
    "        'dribbling', 'curve', 'fk_accuracy', 'long_passing', 'ball_control',\n",
    "       'movement', 'acceleration', 'sprint_speed', 'agility', 'reactions',\n",
    "       'balance', 'power', 'shot_power', 'jumping', 'stamina', 'strength',\n",
    "       'long_shots', 'mentality', 'aggression', 'interceptions', 'positioning',\n",
    "       'vision', 'penalties', 'composure', 'defending', 'marking',\n",
    "       'standing_tackle', 'sliding_tackle', 'goalkeeping', 'gk_diving',\n",
    "       'gk_handling', 'gk_kicking', 'gk_positioning', 'gk_reflexes', 'value', 'base_stats','height', 'weight','w/f','name', 'nationality', 'club'], axis = 1)\n",
    "\n",
    "#Convert wage into integers\n",
    "    df['wage'] = [x.replace('€', '').replace('K','000') for x in df['wage']]\n",
    "\n",
    "# Get rid of the star\n",
    "    \n",
    "    df['sm'] = [i.replace('★','') for i in df['sm']]\n",
    "    \n",
    "    df['ir'] = [i.replace('★','') for i in df['ir']]\n",
    "\n",
    "# Get rid of the NaN values\n",
    "    df = df.dropna()\n",
    "    \n",
    "    return df"
   ]
  },
  {
   "cell_type": "code",
   "execution_count": null,
   "id": "fff6bfdc",
   "metadata": {},
   "outputs": [],
   "source": [
    "fifa_predict = clean_data(fifa_predict)"
   ]
  },
  {
   "cell_type": "code",
   "execution_count": null,
   "id": "56fc3dac",
   "metadata": {},
   "outputs": [],
   "source": [
    "fifa_predict.head()"
   ]
  },
  {
   "cell_type": "code",
   "execution_count": null,
   "id": "2ba2ec3b",
   "metadata": {},
   "outputs": [],
   "source": []
  }
 ],
 "metadata": {
  "kernelspec": {
   "display_name": "Python 3 (ipykernel)",
   "language": "python",
   "name": "python3"
  },
  "language_info": {
   "codemirror_mode": {
    "name": "ipython",
    "version": 3
   },
   "file_extension": ".py",
   "mimetype": "text/x-python",
   "name": "python",
   "nbconvert_exporter": "python",
   "pygments_lexer": "ipython3",
   "version": "3.9.13"
  }
 },
 "nbformat": 4,
 "nbformat_minor": 5
}
